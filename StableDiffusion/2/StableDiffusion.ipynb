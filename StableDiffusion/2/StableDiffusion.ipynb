{
 "cells": [
  {
   "cell_type": "markdown",
   "metadata": {},
   "source": [
    "# Setup\n",
    "\n",
    "Connect to Cisco anyconnect vpn\n",
    "ssh username@ip\n",
    "Open vscode and install ssh remote desktop extension, jupiter notbook extension\n",
    "then in vscode terminal:"
   ]
  },
  {
   "cell_type": "markdown",
   "metadata": {},
   "source": [
    "## Double Click This Text to copy\n",
    "\n",
    "git clone https://github.com/LeanderZiehm/UnitedAISSH\n",
    "\n",
    "wget https://repo.anaconda.com/archive/Anaconda3-2024.10-1-Linux-x86_64.sh\n",
    "\n",
    "sh Anaconda3-2024.10-1-Linux-x86_64.sh\n",
    "\n",
    "#restart ssh terminal\n",
    "\n",
    "pip install diffusers transformers accelerate"
   ]
  },
  {
   "cell_type": "markdown",
   "metadata": {},
   "source": [
    "# Code"
   ]
  },
  {
   "cell_type": "code",
   "execution_count": null,
   "metadata": {},
   "outputs": [],
   "source": [
    "from diffusers import AutoPipelineForText2Image\n",
    "import torch\n",
    "import matplotlib.pyplot as plt\n",
    "\n",
    "pipe = AutoPipelineForText2Image.from_pretrained(\"stabilityai/sd-turbo\", torch_dtype=torch.float16, variant=\"fp16\")\n",
    "pipe.to(\"cuda\")"
   ]
  },
  {
   "cell_type": "code",
   "execution_count": null,
   "metadata": {},
   "outputs": [],
   "source": [
    "prompt = \"A cinematic shot of a baby racoon wearing an intricate italian priest robe.\"\n",
    "image = pipe(prompt=prompt, num_inference_steps=1, guidance_scale=0.0).images[0]\n",
    "\n",
    "\n",
    "plt.imshow(image);\n",
    "plt.axis('off');"
   ]
  },
  {
   "cell_type": "code",
   "execution_count": null,
   "metadata": {},
   "outputs": [],
   "source": [
    "# Define a list of prompts\n",
    "prompts = [\n",
    "    \"A futuristic cityscape at sunset with flying cars and neon lights\",\n",
    "    \"A magical forest with glowing mushrooms and enchanted creatures at night\",\n",
    "    \"A cozy cabin in the snowy mountains with smoke coming from the chimney\",\n",
    "    \"An astronaut floating in space with Earth reflecting in the helmet visor\",\n",
    "    \"A steampunk robot tea party in a Victorian-style room\",\n",
    "    \"A surreal desert landscape with floating pyramids and mirrored lakes\",\n",
    "    \"A close-up portrait of a lion with a galaxy pattern in its mane\",\n",
    "    \"An underwater scene with ancient ruins and colorful fish swimming around\",\n",
    "    \"A high-tech samurai warrior standing on a futuristic Tokyo rooftop at night\",\n",
    "    \"A giant octopus attacking a pirate ship in the middle of a stormy sea\"\n",
    "]\n",
    "\n",
    "# Generate and display images for each prompt\n",
    "for i, prompt in enumerate(prompts):\n",
    "    image = pipe(prompt=prompt, num_inference_steps=1, guidance_scale=0.0).images[0] \n",
    "\n",
    "    # Display the image\n",
    "    plt.figure(figsize=(5, 5))\n",
    "    plt.imshow(image)\n",
    "    plt.axis('off')\n",
    "    plt.title(f\"Prompt {i+1}: {prompt}\")\n",
    "    plt.show()\n"
   ]
  },
  {
   "cell_type": "code",
   "execution_count": null,
   "metadata": {},
   "outputs": [],
   "source": [
    "import random\n",
    "\n",
    "topics = [\"a futuristic city\", \"an enchanted forest\", \"a pirate ship\", \"a medieval castle\", \"a bustling market\", \"a serene beach\"]\n",
    "themes = [\"cyberpunk\", \"fantasy\", \"post-apocalyptic\", \"romantic\", \"dark\", \"surreal\", \"vintage\"]\n",
    "characters = [\"a samurai\", \"a robot\", \"a wizard\", \"a pirate\", \"a scientist\", \"a lion\", \"an astronaut\"]\n",
    "actions = [\"exploring\", \"meditating\", \"fighting monsters\", \"dancing\", \"searching for treasure\", \"conducting an experiment\"]\n",
    "locations = [\"in the middle of a storm\", \"under the moonlight\", \"in a hidden valley\", \"on a mountain peak\", \"in a neon-lit alley\", \"beneath the ocean\"]\n",
    "\n",
    "# Generate random prompts\n",
    "num_prompts = 10\n",
    "random_prompts = []\n",
    "for _ in range(num_prompts):\n",
    "    topic = random.choice(topics)\n",
    "    theme = random.choice(themes)\n",
    "    character = random.choice(characters)\n",
    "    action = random.choice(actions)\n",
    "    location = random.choice(locations)\n",
    "    \n",
    "    # Construct a prompt sentence\n",
    "    prompt = f\"A {theme} scene of {character} {action} {location} at {topic}.\"\n",
    "    random_prompts.append(prompt)\n",
    "\n",
    "# Generate and display images for each prompt\n",
    "for i, prompt in enumerate(random_prompts):\n",
    "    image = pipe(prompt=prompt, num_inference_steps=1, guidance_scale=0.0).images[0] \n",
    "\n",
    "    # Display the image\n",
    "    plt.figure(figsize=(5, 5))\n",
    "    plt.imshow(image)\n",
    "    plt.axis('off')\n",
    "    plt.title(f\"Prompt {i+1}: {prompt}\")\n",
    "    plt.show()\n"
   ]
  }
 ],
 "metadata": {
  "kernelspec": {
   "display_name": "Python 3 (ipykernel)",
   "language": "python",
   "name": "python3"
  },
  "language_info": {
   "codemirror_mode": {
    "name": "ipython",
    "version": 3
   },
   "file_extension": ".py",
   "mimetype": "text/x-python",
   "name": "python",
   "nbconvert_exporter": "python",
   "pygments_lexer": "ipython3",
   "version": "3.12.7"
  }
 },
 "nbformat": 4,
 "nbformat_minor": 2
}
